{
 "cells": [
  {
   "cell_type": "code",
   "execution_count": null,
   "metadata": {
    "_cell_guid": "b1076dfc-b9ad-4769-8c92-a6c4dae69d19",
    "_uuid": "8f2839f25d086af736a60e9eeb907d3b93b6e0e5",
    "trusted": true
   },
   "outputs": [],
   "source": [
    "# This Python 3 environment comes with many helpful analytics libraries installed\n",
    "# It is defined by the kaggle/python Docker image: https://github.com/kaggle/docker-python\n",
    "# For example, here's several helpful packages to load\n",
    "\n",
    "import numpy as np # linear algebra\n",
    "import pandas as pd # data processing, CSV file I/O (e.g. pd.read_csv)\n",
    "\n",
    "# Input data files are available in the read-only \"../input/\" directory\n",
    "# For example, running this (by clicking run or pressing Shift+Enter) will list all files under the input directory\n",
    "\n",
    "import os\n",
    "for dirname, _, filenames in os.walk('/kaggle/input'):\n",
    "    for filename in filenames:\n",
    "        print(os.path.join(dirname, filename))\n",
    "\n",
    "# You can write up to 20GB to the current directory (/kaggle/working/) that gets preserved as output when you create a version using \"Save & Run All\" \n",
    "# You can also write temporary files to /kaggle/temp/, but they won't be saved outside of the current session"
   ]
  },
  {
   "cell_type": "code",
   "execution_count": null,
   "metadata": {
    "trusted": true
   },
   "outputs": [],
   "source": [
    "import pandas as pd\n",
    "import numpy as np\n",
    "import matplotlib.pyplot as plt\n",
    "import seaborn as sns\n",
    "import datetime"
   ]
  },
  {
   "cell_type": "code",
   "execution_count": null,
   "metadata": {
    "trusted": true
   },
   "outputs": [],
   "source": [
    "train = pd.read_csv(\"/kaggle/input/instant-gratification/train.csv\")\n",
    "test = pd.read_csv(\"/kaggle/input/instant-gratification/test.csv\")\n",
    "submission = pd.read_csv(\"/kaggle/input/instant-gratification/sample_submission.csv\") "
   ]
  },
  {
   "cell_type": "markdown",
   "metadata": {},
   "source": [
    "# Stacking\n",
    "여러가지 모델이 도출한 예측값을 보고 합산하여 최종 예측결과를 도출하는 방법\n",
    "\n",
    "## Fold\n",
    "사용하는 train dataset을 n개의 폴드로 나눠 n번의 학습을 진행하는 방법 (KFold)\n",
    "n번의 학습에서 각각 모든 폴드는 validate dataset으로 진행되게 되며 validate dataset이 아닌 폴드는 모두 train dataset으로 사용됨\n",
    "\n",
    "* OOF : Out Of Fold (모델이 학습, 테스트 예측한 결과)"
   ]
  },
  {
   "cell_type": "code",
   "execution_count": null,
   "metadata": {
    "_kg_hide-input": true,
    "trusted": true
   },
   "outputs": [],
   "source": [
    "# 예시를 보이는 코드 (작동 X)\n",
    "from sklearn.model_selection import KFold\n",
    "\n",
    "oof_train = np.zeros((len(train), 1))\n",
    "oof_test = np.zeros((len(train),1))\n",
    "target = train[\"target\"]\n",
    "n = 3\n",
    "\n",
    "# n_splits : fold 갯수, KFold는 해당 데이터를 적절히 나눠 인덱스를 출력해주는 툴\n",
    "fold = KFold(n_splits=n, shuffle=True, random_state=42)\n",
    "\n",
    "# train_ids, valid_ids는 배열로 주어짐\n",
    "for train_ids, valid_ids in fold.split(train):\n",
    "    x_train, y_train = train[train_id], target[train_id]\n",
    "    x_valid, y_valid = train[valid_id], target[valid_id]\n",
    "    model.fit(x_train, y_train)\n",
    "\n",
    "    oof_train[valid_id] = model.predict(x_valid)\n",
    "    oof_test += model.predict(test)\n",
    "\n",
    "# test한 결과 n개가 더해져 있기 때문에 마지막에 나눠줌\n",
    "oof_test = oof_test / n"
   ]
  },
  {
   "cell_type": "markdown",
   "metadata": {},
   "source": [
    "## Meta Model (2단계 모델 만들기)\n",
    "위에서 여러개의 모델이 도출한 결과인 OOF를 입력으로 가지는 2단계모델 (Stacking)을 만들기\n",
    "보통 Gradient Boosting, Neural Network등을 사용함 2단계 모델은 파라미터를 너무 깊게 만들지 않음"
   ]
  },
  {
   "cell_type": "code",
   "execution_count": null,
   "metadata": {
    "trusted": true
   },
   "outputs": [],
   "source": [
    "# 위 과정을 4번 진행하여 4개의 모델을 사용한다고 가정\n",
    "\n",
    "# 여러 모델들의 oof를 이어 만들기\n",
    "train_2nd_input = np.concatenate(\n",
    "    (oof_train_model1, oof_train_model2, oof_train_model3, oof_train_model4), axis=1\n",
    ")\n",
    "test_2nd_input = np.concatenate(\n",
    "    (oof_test_model1, oof_test_model2, oof_test_model3, oof_test_model4, axis=1)\n",
    ")\n",
    "\n",
    "oof_train_2nd = np.zeros((len(train_2nd_input), 1))\n",
    "oof_test_2nd = np.zeros((len(test_2nd_input), 1))\n",
    "\n",
    "n_2nd = 3\n",
    "fold = KFold(n_splits=n_2nd, random_state=42)\n",
    "for train_ids, valid_ids in fold.split(train_2nd_input):\n",
    "    x_train, y_train = train_2nd_input[train_ids], target[train_ids]\n",
    "    x_valid, y_valid = train_2nd_input[valid_ids], target[valid_ids]\n",
    "\n",
    "    model.fit(x_train, y_train)\n",
    "    oof_train_2nd[valid_ids] = model.predict(x_valid)\n",
    "    oof_test_2nd += model.predict(test_2nd_input)\n",
    "    \n",
    "oof_test_2nd = oof_test_2nd / 3"
   ]
  }
 ],
 "metadata": {
  "kaggle": {
   "accelerator": "none",
   "dataSources": [
    {
     "databundleVersionId": 448708,
     "sourceId": 14239,
     "sourceType": "competition"
    }
   ],
   "dockerImageVersionId": 31040,
   "isGpuEnabled": false,
   "isInternetEnabled": true,
   "language": "python",
   "sourceType": "notebook"
  },
  "kernelspec": {
   "display_name": "Python 3",
   "language": "python",
   "name": "python3"
  },
  "language_info": {
   "codemirror_mode": {
    "name": "ipython",
    "version": 3
   },
   "file_extension": ".py",
   "mimetype": "text/x-python",
   "name": "python",
   "nbconvert_exporter": "python",
   "pygments_lexer": "ipython3",
   "version": "3.11.11"
  }
 },
 "nbformat": 4,
 "nbformat_minor": 4
}
